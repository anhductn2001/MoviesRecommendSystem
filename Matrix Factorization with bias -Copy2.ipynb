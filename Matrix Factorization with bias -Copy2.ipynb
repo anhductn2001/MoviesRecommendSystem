{
 "cells": [
  {
   "cell_type": "markdown",
   "metadata": {
    "collapsed": true
   },
   "source": [
    "# Matrix Factorization"
   ]
  },
  {
   "cell_type": "code",
   "execution_count": 1,
   "metadata": {},
   "outputs": [],
   "source": [
    "from __future__ import print_function \n",
    "import pandas as pd \n",
    "import numpy as np\n",
    "from sklearn.metrics.pairwise import cosine_similarity\n",
    "from scipy import sparse \n",
    "\n",
    "class MF(object):\n",
    "    def __init__(self, Y, K, lam = 0.02, Xinit = None, Winit = None, \n",
    "                 learning_rate = 0.005, max_epoch = 20, print_every = 2):\n",
    "        self.Y      = Y\n",
    "        self.user   = Y[:, 0]\n",
    "        self.item   = Y[:, 1]\n",
    "        self.rating = Y[:, 2]\n",
    "        self.n_users       = int(np.max(self.user)) + 1 \n",
    "        self.n_items       = int(np.max(self.item)) + 1\n",
    "        self.n_ratings     = Y.shape[0] # number of known ratings\n",
    "        self.X = .1*np.random.randn(self.n_items, K) if Xinit is None else Xinit \n",
    "        self.W = .1*np.random.randn(self.n_users, K) if Winit is None else Winit \n",
    "        self.b = np.zeros(self.n_items) # item biases\n",
    "        self.d = np.zeros(self.n_users) # user biases\n",
    "        self.mu = np.mean(self.rating)\n",
    "        self.K      = K    # \n",
    "        self.lam    = lam  # regularization parameter \n",
    "        self.learning_rate = learning_rate\n",
    "        self.max_epoch      = max_epoch # maximum number of iterations \n",
    "        self.print_every   = print_every # print loss+ RMSE on training data after each ? iters \n",
    "\n",
    "    def _loss(self):\n",
    "        L = 0 \n",
    "        for n in range(self.n_ratings):\n",
    "            # user_id, item_id, rating\n",
    "            u, i, rating = self.user[n], self.item[n], self.rating[n]\n",
    "            pred_rating = self.X[i].dot(self.W[u]) + self.b[i] + self.d[u] + self.mu \n",
    "            L += 0.5*(pred_rating - rating)**2 + .5*self.lam*(self.b[i]*2 + \n",
    "                    self.d[u]*2 + np.sum(self.X[i]**2) + np.sum(self.W[u]**2))\n",
    "        \n",
    "        return L/self.n_ratings\n",
    "    \n",
    "    def fit(self):\n",
    "        for it in range(self.max_epoch):\n",
    "            # mix data \n",
    "            idx = np.random.permutation(self.n_ratings)\n",
    "            for n in idx:\n",
    "                u, i, rating = self.user[n], self.item[n], self.rating[n]\n",
    "                pred_rating = self.X[i].dot(self.W[u]) + self.b[i] + self.d[u] + self.mu \n",
    "                error = pred_rating - rating \n",
    "                self.b[i] -= self.learning_rate*(error + self.lam*self.b[i])\n",
    "                self.d[u] -= self.learning_rate*(error + self.lam*self.d[u])\n",
    "                self.X[i] -= self.learning_rate*(error*self.W[u] + self.lam*self.X[i])\n",
    "                self.W[u] -= self.learning_rate*(error*self.X[i] + self.lam*self.W[u])\n",
    "\n",
    "            if (it + 1) % self.print_every == 0:\n",
    "                rmse_train = self.evaluate_RMSE(self.Y)\n",
    "                print('iter = %d, loss = %.4f, RMSE train = %.4f'%(it + 1, self._loss(), rmse_train))\n",
    "    \n",
    "    def pred(self, u, i):\n",
    "        \"\"\" \n",
    "        predict the rating of user u for item i \n",
    "        \"\"\"\n",
    "        u, i = int(u), int(i)\n",
    "        pred = self.X[i].dot(self.W[u]) + self.b[i] + self.d[u] + self.mu# + bias\n",
    "        return max(0, min(5, pred)) # pred should be between 0 and 5 in MoviesLen \n",
    "    \n",
    "    def evaluate_RMSE(self, rate_test):\n",
    "        n_tests = rate_test.shape[0] # number of test \n",
    "        SE = 0 # squared error\n",
    "        for n in range(n_tests):\n",
    "            pred = self.pred(rate_test[n, 0], rate_test[n, 1])\n",
    "            SE += (pred - rate_test[n, 2])**2 \n",
    "\n",
    "        RMSE = np.sqrt(SE/n_tests)\n",
    "        return RMSE\n",
    "        "
   ]
  },
  {
   "cell_type": "markdown",
   "metadata": {},
   "source": [
    "# Áp dụng lên MovieLens 100k"
   ]
  },
  {
   "cell_type": "code",
   "execution_count": 2,
   "metadata": {},
   "outputs": [],
   "source": [
    "r_cols = ['user_id', 'movie_id', 'rating', 'unix_timestamp']\n",
    "\n",
    "ratings_base = pd.read_csv('ml-100k/ua.base', sep='\\t', names=r_cols)\n",
    "ratings_test = pd.read_csv('ml-100k/ua.test', sep='\\t', names=r_cols)\n",
    "\n",
    "rate_train = ratings_base[r_cols].values\n",
    "rate_test = ratings_test[r_cols].values\n",
    "\n",
    "# indices start from 0\n",
    "rate_train[:, :2] -= 1\n",
    "rate_test[:, :2] -= 1"
   ]
  },
  {
   "cell_type": "code",
   "execution_count": 3,
   "metadata": {},
   "outputs": [
    {
     "name": "stdout",
     "output_type": "stream",
     "text": [
      "iter = 1, loss = 0.5714, RMSE train = 0.9851\n",
      "iter = 2, loss = 0.5266, RMSE train = 0.9502\n",
      "iter = 3, loss = 0.5016, RMSE train = 0.9325\n",
      "iter = 4, loss = 0.4852, RMSE train = 0.9213\n",
      "iter = 5, loss = 0.4730, RMSE train = 0.9135\n",
      "iter = 6, loss = 0.4638, RMSE train = 0.9073\n",
      "iter = 7, loss = 0.4567, RMSE train = 0.9026\n",
      "iter = 8, loss = 0.4508, RMSE train = 0.8985\n",
      "iter = 9, loss = 0.4458, RMSE train = 0.8950\n",
      "iter = 10, loss = 0.4418, RMSE train = 0.8919\n",
      "iter = 11, loss = 0.4384, RMSE train = 0.8889\n",
      "iter = 12, loss = 0.4354, RMSE train = 0.8861\n",
      "iter = 13, loss = 0.4322, RMSE train = 0.8833\n",
      "iter = 14, loss = 0.4298, RMSE train = 0.8807\n",
      "iter = 15, loss = 0.4271, RMSE train = 0.8777\n",
      "iter = 16, loss = 0.4246, RMSE train = 0.8748\n",
      "iter = 17, loss = 0.4229, RMSE train = 0.8720\n",
      "iter = 18, loss = 0.4204, RMSE train = 0.8687\n",
      "iter = 19, loss = 0.4185, RMSE train = 0.8656\n",
      "iter = 20, loss = 0.4159, RMSE train = 0.8622\n",
      "iter = 21, loss = 0.4144, RMSE train = 0.8591\n",
      "iter = 22, loss = 0.4122, RMSE train = 0.8553\n",
      "iter = 23, loss = 0.4102, RMSE train = 0.8517\n",
      "iter = 24, loss = 0.4085, RMSE train = 0.8481\n",
      "iter = 25, loss = 0.4063, RMSE train = 0.8445\n",
      "iter = 26, loss = 0.4046, RMSE train = 0.8408\n",
      "iter = 27, loss = 0.4029, RMSE train = 0.8372\n",
      "iter = 28, loss = 0.4013, RMSE train = 0.8336\n",
      "iter = 29, loss = 0.3997, RMSE train = 0.8301\n",
      "iter = 30, loss = 0.3985, RMSE train = 0.8265\n",
      "iter = 31, loss = 0.3967, RMSE train = 0.8229\n",
      "iter = 32, loss = 0.3953, RMSE train = 0.8194\n",
      "iter = 33, loss = 0.3941, RMSE train = 0.8160\n",
      "iter = 34, loss = 0.3929, RMSE train = 0.8127\n",
      "iter = 35, loss = 0.3913, RMSE train = 0.8093\n",
      "iter = 36, loss = 0.3903, RMSE train = 0.8060\n",
      "iter = 37, loss = 0.3890, RMSE train = 0.8026\n",
      "iter = 38, loss = 0.3878, RMSE train = 0.7993\n",
      "iter = 39, loss = 0.3868, RMSE train = 0.7961\n",
      "iter = 40, loss = 0.3857, RMSE train = 0.7931\n",
      "iter = 41, loss = 0.3849, RMSE train = 0.7900\n",
      "iter = 42, loss = 0.3835, RMSE train = 0.7870\n",
      "iter = 43, loss = 0.3823, RMSE train = 0.7838\n",
      "iter = 44, loss = 0.3812, RMSE train = 0.7808\n",
      "iter = 45, loss = 0.3805, RMSE train = 0.7779\n",
      "iter = 46, loss = 0.3796, RMSE train = 0.7751\n",
      "iter = 47, loss = 0.3790, RMSE train = 0.7723\n",
      "iter = 48, loss = 0.3779, RMSE train = 0.7695\n",
      "iter = 49, loss = 0.3771, RMSE train = 0.7668\n",
      "iter = 50, loss = 0.3765, RMSE train = 0.7642\n",
      "\n",
      "Matrix Factorization CF, RMSE = 0.9346\n"
     ]
    }
   ],
   "source": [
    "rs = MF(rate_train, K = 100, lam = .1, print_every = 1, learning_rate = 0.005, max_epoch = 50)\n",
    "rs.fit()\n",
    "# evaluate on test data\n",
    "RMSE = rs.evaluate_RMSE(rate_test)\n",
    "print('\\nMatrix Factorization CF, RMSE = %.4f' %RMSE)"
   ]
  },
  {
   "cell_type": "code",
   "execution_count": 4,
   "metadata": {},
   "outputs": [
    {
     "name": "stdout",
     "output_type": "stream",
     "text": [
      "iter = 1, loss = 0.4397, RMSE train = 0.8358\n",
      "iter = 2, loss = 0.4137, RMSE train = 0.8014\n",
      "iter = 3, loss = 0.4015, RMSE train = 0.7846\n",
      "iter = 4, loss = 0.3948, RMSE train = 0.7743\n",
      "iter = 5, loss = 0.3903, RMSE train = 0.7665\n",
      "iter = 6, loss = 0.3866, RMSE train = 0.7605\n",
      "iter = 7, loss = 0.3840, RMSE train = 0.7557\n",
      "iter = 8, loss = 0.3817, RMSE train = 0.7513\n",
      "iter = 9, loss = 0.3798, RMSE train = 0.7475\n",
      "iter = 10, loss = 0.3786, RMSE train = 0.7443\n",
      "iter = 11, loss = 0.3772, RMSE train = 0.7413\n",
      "iter = 12, loss = 0.3760, RMSE train = 0.7385\n",
      "iter = 13, loss = 0.3748, RMSE train = 0.7359\n",
      "iter = 14, loss = 0.3738, RMSE train = 0.7333\n",
      "iter = 15, loss = 0.3728, RMSE train = 0.7310\n",
      "iter = 16, loss = 0.3721, RMSE train = 0.7288\n",
      "iter = 17, loss = 0.3714, RMSE train = 0.7267\n",
      "iter = 18, loss = 0.3709, RMSE train = 0.7246\n",
      "iter = 19, loss = 0.3701, RMSE train = 0.7226\n",
      "iter = 20, loss = 0.3695, RMSE train = 0.7209\n",
      "iter = 21, loss = 0.3687, RMSE train = 0.7189\n",
      "iter = 22, loss = 0.3683, RMSE train = 0.7172\n",
      "iter = 23, loss = 0.3678, RMSE train = 0.7155\n",
      "iter = 24, loss = 0.3672, RMSE train = 0.7139\n",
      "iter = 25, loss = 0.3667, RMSE train = 0.7122\n",
      "iter = 26, loss = 0.3665, RMSE train = 0.7108\n",
      "iter = 27, loss = 0.3659, RMSE train = 0.7093\n",
      "iter = 28, loss = 0.3655, RMSE train = 0.7077\n",
      "iter = 29, loss = 0.3649, RMSE train = 0.7064\n",
      "iter = 30, loss = 0.3649, RMSE train = 0.7049\n",
      "iter = 31, loss = 0.3643, RMSE train = 0.7036\n",
      "iter = 32, loss = 0.3640, RMSE train = 0.7023\n",
      "iter = 33, loss = 0.3636, RMSE train = 0.7010\n",
      "iter = 34, loss = 0.3634, RMSE train = 0.6998\n",
      "iter = 35, loss = 0.3629, RMSE train = 0.6986\n",
      "iter = 36, loss = 0.3627, RMSE train = 0.6973\n",
      "iter = 37, loss = 0.3621, RMSE train = 0.6962\n",
      "iter = 38, loss = 0.3622, RMSE train = 0.6950\n",
      "iter = 39, loss = 0.3618, RMSE train = 0.6940\n",
      "iter = 40, loss = 0.3616, RMSE train = 0.6929\n",
      "iter = 41, loss = 0.3613, RMSE train = 0.6919\n",
      "iter = 42, loss = 0.3612, RMSE train = 0.6908\n",
      "iter = 43, loss = 0.3607, RMSE train = 0.6898\n",
      "iter = 44, loss = 0.3607, RMSE train = 0.6890\n",
      "iter = 45, loss = 0.3603, RMSE train = 0.6880\n",
      "iter = 46, loss = 0.3601, RMSE train = 0.6871\n",
      "iter = 47, loss = 0.3598, RMSE train = 0.6861\n",
      "iter = 48, loss = 0.3596, RMSE train = 0.6854\n",
      "iter = 49, loss = 0.3599, RMSE train = 0.6844\n",
      "iter = 50, loss = 0.3593, RMSE train = 0.6836\n",
      "\n",
      "Matrix Factorization CF, RMSE = 0.9276\n"
     ]
    }
   ],
   "source": [
    "rs = MF(rate_train, K = 100, lam = .1, print_every = 1, learning_rate = 0.005, max_epoch = 50, Xinit = rs.X, Winit = rs.W)\n",
    "rs.fit()\n",
    "# evaluate on test data\n",
    "RMSE = rs.evaluate_RMSE(rate_test)\n",
    "print('\\nMatrix Factorization CF, RMSE = %.4f' %RMSE)"
   ]
  },
  {
   "cell_type": "code",
   "execution_count": 5,
   "metadata": {},
   "outputs": [
    {
     "data": {
      "text/plain": [
       "1682"
      ]
     },
     "execution_count": 5,
     "metadata": {},
     "output_type": "execute_result"
    }
   ],
   "source": [
    "rs.X.shape\n",
    "rs.n_items"
   ]
  },
  {
   "cell_type": "code",
   "execution_count": null,
   "metadata": {
    "collapsed": true
   },
   "outputs": [],
   "source": []
  }
 ],
 "metadata": {
  "kernelspec": {
   "display_name": "Python 3",
   "language": "python",
   "name": "python3"
  },
  "language_info": {
   "codemirror_mode": {
    "name": "ipython",
    "version": 3
   },
   "file_extension": ".py",
   "mimetype": "text/x-python",
   "name": "python",
   "nbconvert_exporter": "python",
   "pygments_lexer": "ipython3",
   "version": "3.8.5"
  }
 },
 "nbformat": 4,
 "nbformat_minor": 2
}
